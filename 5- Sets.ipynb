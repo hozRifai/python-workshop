{
 "cells": [
  {
   "cell_type": "markdown",
   "metadata": {},
   "source": [
    "<h3> Sets </h3>\n",
    "<p>There are four collection data types in the Python programming language:</p>\n",
    "\n",
    "<li><b>List: </b> is a collection which is ordered and changeable. Allows duplicate members.</li>\n",
    "<li><b>Tuple: </b> is a collection which is ordered and unchangeable. Allows duplicate members.</li>\n",
    "<li><b>Set: </b> is a collection which is unordered and unindexed. No duplicate members.</li>\n",
    "<li><b>Dictionary: </b> is a collection which is unordered, changeable and indexed. No duplicate members.</li>"
   ]
  },
  {
   "cell_type": "code",
   "execution_count": 3,
   "metadata": {},
   "outputs": [
    {
     "name": "stdout",
     "output_type": "stream",
     "text": [
      "Linux\n",
      "Mac\n",
      "Android\n",
      "Windows\n",
      "Unix\n"
     ]
    }
   ],
   "source": [
    "# In Python sets are written with curly brackets.\n",
    "# You cannot access items in a set by referring to an index, since sets are unordered the items has no index.\n",
    "os = {\"Linux\", \"Windows\", \"Mac\", 'Android', 'Unix'}\n",
    "for x in os:\n",
    "    print(x)"
   ]
  },
  {
   "cell_type": "markdown",
   "metadata": {},
   "source": [
    "<h3> 1- Check If Item Exists</h3>"
   ]
  },
  {
   "cell_type": "code",
   "execution_count": 4,
   "metadata": {},
   "outputs": [
    {
     "name": "stdout",
     "output_type": "stream",
     "text": [
      "Linux was detected\n"
     ]
    }
   ],
   "source": [
    "os = {\"Linux\", \"Windows\", \"Mac\", 'Android', 'Unix'}\n",
    "if \"Linux\" in os:\n",
    "    print(\"Linux was detected\")"
   ]
  },
  {
   "cell_type": "markdown",
   "metadata": {},
   "source": [
    "<h3> 2- Add Items </h3>"
   ]
  },
  {
   "cell_type": "code",
   "execution_count": 1,
   "metadata": {},
   "outputs": [
    {
     "data": {
      "text/plain": [
       "{'1', '2', 'Android', 'Linux', 'Mac', 'Unix', 'Windows'}"
      ]
     },
     "execution_count": 1,
     "metadata": {},
     "output_type": "execute_result"
    }
   ],
   "source": [
    "os = {\"Linux\", \"Windows\", \"Mac\", 'Android'}\n",
    "os.add('Unix')\n",
    "os.update('1', '2') # adding more than one item\n",
    "os"
   ]
  },
  {
   "cell_type": "markdown",
   "metadata": {},
   "source": [
    "<h3> 3- Remove Item </h3>"
   ]
  },
  {
   "cell_type": "code",
   "execution_count": 7,
   "metadata": {},
   "outputs": [
    {
     "data": {
      "text/plain": [
       "{'Android', 'Linux', 'Mac'}"
      ]
     },
     "execution_count": 7,
     "metadata": {},
     "output_type": "execute_result"
    }
   ],
   "source": [
    "os = {\"Linux\", \"Windows\", \"Mac\", 'Android'}\n",
    "os.remove(\"Windows\")\n",
    "os.discard(\"fedora\")\n",
    "# os.clear() # del os\n",
    "os"
   ]
  },
  {
   "cell_type": "markdown",
   "metadata": {},
   "source": [
    "<h3> 3- Join 2 Sets</h3>"
   ]
  },
  {
   "cell_type": "code",
   "execution_count": 14,
   "metadata": {},
   "outputs": [
    {
     "data": {
      "text/plain": [
       "{1, 2, 3, 'a', 'b', 'c'}"
      ]
     },
     "execution_count": 14,
     "metadata": {},
     "output_type": "execute_result"
    }
   ],
   "source": [
    "set1 = {\"a\", \"b\" , \"c\"}\n",
    "set2 = {1, 2, 3}\n",
    "\n",
    "set3 = set1.union(set2)\n",
    "# set1.update(set2)\n",
    "set3"
   ]
  }
 ],
 "metadata": {
  "kernelspec": {
   "display_name": "Python 3",
   "language": "python",
   "name": "python3"
  },
  "language_info": {
   "codemirror_mode": {
    "name": "ipython",
    "version": 3
   },
   "file_extension": ".py",
   "mimetype": "text/x-python",
   "name": "python",
   "nbconvert_exporter": "python",
   "pygments_lexer": "ipython3",
   "version": "3.6.7"
  }
 },
 "nbformat": 4,
 "nbformat_minor": 2
}
