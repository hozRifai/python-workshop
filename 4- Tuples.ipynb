{
 "cells": [
  {
   "cell_type": "markdown",
   "metadata": {},
   "source": [
    "<h3> Tuples </h3>\n",
    "<p>There are four collection data types in the Python programming language:</p>\n",
    "\n",
    "<li><b>List: </b> is a collection which is ordered and changeable. Allows duplicate members.</li>\n",
    "<li><b>Tuple: </b> is a collection which is ordered and unchangeable. Allows duplicate members.</li>\n",
    "<li><b>Set: </b> is a collection which is unordered and unindexed. No duplicate members.</li>\n",
    "<li><b>Dictionary: </b> is a collection which is unordered, changeable and indexed. No duplicate members.</li>"
   ]
  },
  {
   "cell_type": "code",
   "execution_count": 22,
   "metadata": {},
   "outputs": [],
   "source": [
    "# In Python tuples are written with round brackets.\n",
    "os = (\"Linux\", \"Windows\", \"Mac\", 'Android', 'Unix')\n",
    "# os[1]\n",
    "# os[-1]\n",
    "# os[1:4]\n",
    "# os[:3]\n",
    "# os[::-1]\n",
    "# os[1] = os[1].upper() \n",
    "# os[1]"
   ]
  },
  {
   "cell_type": "markdown",
   "metadata": {},
   "source": [
    "Althought I said Tuples are unchangeable, I will change them now!"
   ]
  },
  {
   "cell_type": "code",
   "execution_count": 32,
   "metadata": {},
   "outputs": [
    {
     "data": {
      "text/plain": [
       "('Linux', 'Mac', 'Windows', 'Android', 'Unix')"
      ]
     },
     "execution_count": 32,
     "metadata": {},
     "output_type": "execute_result"
    }
   ],
   "source": [
    "os = (\"Linux\", \"Windows\", \"Mac\", 'Android', 'Unix')\n",
    "y = list(os)\n",
    "# C++ Code for Swaping! \n",
    "# temp = a \n",
    "# a = b \n",
    "# b = temp\n",
    "# Nah, It's Python!\n",
    "y[1], y[2] = y[2], y[1]\n",
    "\n",
    "os = tuple(y)\n",
    "os"
   ]
  },
  {
   "cell_type": "markdown",
   "metadata": {},
   "source": [
    "<h3> 1- Check If Item Exists</h3>"
   ]
  },
  {
   "cell_type": "code",
   "execution_count": 33,
   "metadata": {},
   "outputs": [
    {
     "name": "stdout",
     "output_type": "stream",
     "text": [
      "Linux was detected\n"
     ]
    }
   ],
   "source": [
    "os = (\"Linux\", \"Windows\", \"Mac\", 'Android', 'Unix')\n",
    "if \"Linux\" in os:\n",
    "    print(\"Linux was detected\")"
   ]
  },
  {
   "cell_type": "markdown",
   "metadata": {},
   "source": [
    "<h3> 2- Join 2 Tuples</h3>"
   ]
  },
  {
   "cell_type": "code",
   "execution_count": 36,
   "metadata": {},
   "outputs": [
    {
     "data": {
      "text/plain": [
       "('a', 'b', 'c', 1, 2, 3)"
      ]
     },
     "execution_count": 36,
     "metadata": {},
     "output_type": "execute_result"
    }
   ],
   "source": [
    "tuple1 = (\"a\", \"b\" , \"c\")\n",
    "tuple2 = (1, 2, 3)\n",
    "\n",
    "tuple3 = tuple1 + tuple2\n",
    "tuple3"
   ]
  },
  {
   "cell_type": "code",
   "execution_count": null,
   "metadata": {},
   "outputs": [],
   "source": []
  }
 ],
 "metadata": {
  "kernelspec": {
   "display_name": "Python 3",
   "language": "python",
   "name": "python3"
  },
  "language_info": {
   "codemirror_mode": {
    "name": "ipython",
    "version": 3
   },
   "file_extension": ".py",
   "mimetype": "text/x-python",
   "name": "python",
   "nbconvert_exporter": "python",
   "pygments_lexer": "ipython3",
   "version": "3.6.7"
  }
 },
 "nbformat": 4,
 "nbformat_minor": 2
}
