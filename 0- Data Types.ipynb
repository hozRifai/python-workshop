{
 "cells": [
  {
   "cell_type": "markdown",
   "metadata": {},
   "source": [
    "<h1>Python Data Types</h1>"
   ]
  },
  {
   "cell_type": "markdown",
   "metadata": {},
   "source": [
    "<h3>  Built-in Data Types </h3>\n",
    "<p> Variables can store data of different types, and different types can do different things. <br>\n",
    "Python has the following data types built-in by default, in these categories: </p>\n",
    "<li style='color:black'> Boolean Types:  <code  style='color:red'><b>bool </b></code> </li>\n",
    "<li style='color:black' > Text Type:  <code  style='color:red' ><b>str</b> </code></li>\n",
    "<li style='color:black'> Numeric Types: <code  style='color:red'><b>int </b></code>, <code  style='color:red'><b> float</b></code>, <code  style='color:red'><b>complex </b></code> </li>\n",
    "<li style='color:black'> Sequence Types:  <code  style='color:red'><b>list </b></code>, <code  style='color:red'> <b>tuple</b></code></li>\n",
    "<li style='color:black'> Set Types:  <code  style='color:red'><b>set </b> </code>, <code  style='color:red'> <b>frozenset</b></code>  </li>\n",
    "<li style='color:black'> Mapping Type:  <code  style='color:red'><b>dict </b></code> </li>\n",
    "<li style='color:black'> Binary Types:  <code  style='color:red'><b>bytes </b></code>, <code  style='color:red'><b> bytearray</b></code>, <code  style='color:red'><b>memoryview</b> </code>  </li>"
   ]
  },
  {
   "cell_type": "markdown",
   "metadata": {},
   "source": [
    "<h3> Variable Names</h3>\n",
    "<ul>A variable can have a short name (like x and y) or a more descriptive name (age, carname, total_volume). Rules for Python variables:\n",
    "<li>A variable name must start with a letter or the underscore character</li>\n",
    "<li>A variable name cannot start with a number</li>\n",
    "<li>A variable name can only contain alpha-numeric characters and underscores (A-z, 0-9, and _ )</li>\n",
    "    <li>Variable names are case-sensitive (age, Age and AGE are three different variables) </li>\n",
    "</ul>"
   ]
  },
  {
   "cell_type": "markdown",
   "metadata": {},
   "source": [
    "<h3>Examples </h3>"
   ]
  },
  {
   "cell_type": "code",
   "execution_count": 24,
   "metadata": {},
   "outputs": [],
   "source": [
    "# String \n",
    "name = 'Hozayfa El Rifai'\n",
    "\n",
    "# Numeric Types\n",
    "age = 21 # int  \n",
    "gpa = 3.05 # float ? double\n",
    "\n",
    "# Sequence Types\n",
    "my_list = [\"Linux\", \"Windows\", \"Mac\"]\n",
    "my_tuple = (\"Linux\", \"Windows\", \"Mac\")\n",
    "\n",
    "# Mapping Type\n",
    "my_dict = {'Linux': 'Ubuntu 16.04', 'Windows': 'windows 10', 'Mac': 'Catalina'}\n",
    "\n",
    "# Set Type\n",
    "my_set = {\"Linux\", \"Windows\", \"Mac\"}\n",
    "\n",
    "# Boolean\n",
    "graduated = False # True"
   ]
  },
  {
   "cell_type": "code",
   "execution_count": 20,
   "metadata": {},
   "outputs": [
    {
     "data": {
      "text/plain": [
       "list"
      ]
     },
     "execution_count": 20,
     "metadata": {},
     "output_type": "execute_result"
    }
   ],
   "source": [
    "my_list = [\"Linux\", \"Windows\", \"Mac\"]\n",
    "type(my_list)"
   ]
  },
  {
   "cell_type": "code",
   "execution_count": null,
   "metadata": {},
   "outputs": [],
   "source": []
  }
 ],
 "metadata": {
  "kernelspec": {
   "display_name": "Python 3",
   "language": "python",
   "name": "python3"
  },
  "language_info": {
   "codemirror_mode": {
    "name": "ipython",
    "version": 3
   },
   "file_extension": ".py",
   "mimetype": "text/x-python",
   "name": "python",
   "nbconvert_exporter": "python",
   "pygments_lexer": "ipython3",
   "version": "3.6.7"
  }
 },
 "nbformat": 4,
 "nbformat_minor": 2
}
