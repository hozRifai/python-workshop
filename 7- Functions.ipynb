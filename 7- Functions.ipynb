{
 "cells": [
  {
   "cell_type": "markdown",
   "metadata": {},
   "source": [
    "<h3> 1- Create A Function </h3>\n",
    "<p> In Python a function is defined using the def keyword: </p>"
   ]
  },
  {
   "cell_type": "code",
   "execution_count": 2,
   "metadata": {},
   "outputs": [
    {
     "name": "stdout",
     "output_type": "stream",
     "text": [
      "Hello from a function\n"
     ]
    }
   ],
   "source": [
    "def my_function():\n",
    "    print(\"Hello from a function\")\n",
    "\n",
    "my_function()"
   ]
  },
  {
   "cell_type": "markdown",
   "metadata": {},
   "source": [
    "<h3> 2- Functions with Arguments </h3>"
   ]
  },
  {
   "cell_type": "code",
   "execution_count": 4,
   "metadata": {},
   "outputs": [
    {
     "name": "stdout",
     "output_type": "stream",
     "text": [
      "We Love Python\n"
     ]
    }
   ],
   "source": [
    "def my_function(language):\n",
    "    print(\"We Love \" + language)\n",
    "\n",
    "my_function(\"Python\")"
   ]
  },
  {
   "cell_type": "code",
   "execution_count": 5,
   "metadata": {},
   "outputs": [
    {
     "name": "stdout",
     "output_type": "stream",
     "text": [
      "We are using Python 3.6\n"
     ]
    }
   ],
   "source": [
    "def my_function(language, version):\n",
    "    print(\"We are using \" + language + \" \" + version)\n",
    "\n",
    "my_function(\"Python\", \"3.6\")"
   ]
  },
  {
   "cell_type": "markdown",
   "metadata": {},
   "source": [
    "<h3> 3- Arbitrary Arguments, *args </h3>"
   ]
  },
  {
   "cell_type": "code",
   "execution_count": 2,
   "metadata": {},
   "outputs": [
    {
     "name": "stdout",
     "output_type": "stream",
     "text": [
      "We Use Linux\n"
     ]
    }
   ],
   "source": [
    "def my_function(*args):\n",
    "    print(\"We Use \" + args[3])\n",
    "\n",
    "my_function(\"C++\", \"Java\", \"JavaScript\", 'Linux')"
   ]
  },
  {
   "cell_type": "markdown",
   "metadata": {},
   "source": [
    "<h3> 4- Keyword Arguments </h3>\n",
    "<p> You can also send arguments with the key = value syntax.\n",
    "\n",
    "This way the order of the arguments does not matter.</p>"
   ]
  },
  {
   "cell_type": "code",
   "execution_count": 8,
   "metadata": {},
   "outputs": [
    {
     "name": "stdout",
     "output_type": "stream",
     "text": [
      "We use: Java, C++ and Python\n"
     ]
    }
   ],
   "source": [
    "def my_function(cplusplus, java, python):\n",
    "    print(\"We use: \" + java + \", \" + cplusplus + ' and ' + python )\n",
    "\n",
    "my_function(python = \"Python\", cplusplus = \"C++\", java = \"Java\")"
   ]
  },
  {
   "cell_type": "markdown",
   "metadata": {},
   "source": [
    "<h3> 5- Arbitrary Keyword Arguments, **kwargs</h3>"
   ]
  },
  {
   "cell_type": "code",
   "execution_count": 27,
   "metadata": {},
   "outputs": [
    {
     "name": "stdout",
     "output_type": "stream",
     "text": [
      "('Javascript',) {'python': 'Python', 'cplusplus': 'C++', 'java': 'Java'}\n"
     ]
    }
   ],
   "source": [
    "def my_function(*args, **kwargs):\n",
    "    print(args, kwargs)\n",
    "\n",
    "my_function('Javascript', python = \"Python\", cplusplus = \"C++\", java = \"Java\")"
   ]
  },
  {
   "cell_type": "markdown",
   "metadata": {},
   "source": [
    "<h3>6- Default Parameter Value </h3>"
   ]
  },
  {
   "cell_type": "code",
   "execution_count": 28,
   "metadata": {},
   "outputs": [
    {
     "name": "stdout",
     "output_type": "stream",
     "text": [
      "I am from Sweden\n",
      "I am from India\n",
      "I am from Norway\n",
      "I am from Brazil\n"
     ]
    }
   ],
   "source": [
    "def my_function(country = \"Norway\"):\n",
    "  print(\"I am from \" + country)\n",
    "\n",
    "my_function(\"Sweden\")\n",
    "my_function(\"India\")\n",
    "my_function()\n",
    "my_function(\"Brazil\")"
   ]
  },
  {
   "cell_type": "markdown",
   "metadata": {},
   "source": [
    "<h3> 7- Passing a List as an Argument </h3>"
   ]
  },
  {
   "cell_type": "code",
   "execution_count": 7,
   "metadata": {},
   "outputs": [
    {
     "name": "stdout",
     "output_type": "stream",
     "text": [
      "apple, banana, blueberry, "
     ]
    }
   ],
   "source": [
    "def my_function(food):\n",
    "    for x in food:\n",
    "        print(x, end=', ')\n",
    "\n",
    "fruits = [\"apple\", \"banana\", \"blueberry\"]\n",
    "\n",
    "my_function(fruits)"
   ]
  },
  {
   "cell_type": "code",
   "execution_count": 19,
   "metadata": {},
   "outputs": [
    {
     "name": "stdout",
     "output_type": "stream",
     "text": [
      "15 5\n"
     ]
    }
   ],
   "source": [
    "# write a function that takes unlimited parameters and return the highest one \n",
    "def highest_numer(*args):\n",
    "    # implement me please :(\n",
    "    return maximum, minimum \n",
    "\n",
    "maximum, minimum = highest_numer(5, 10, 15, 20, 3, 5, 6, 2, 0 , 1 , -1, -5)\n",
    "print(maximum, minimum)"
   ]
  },
  {
   "cell_type": "code",
   "execution_count": 49,
   "metadata": {},
   "outputs": [],
   "source": [
    "# Return the number of negative numbers in the given list \n",
    "numbers = [5,1, 3, 5, -1, 2, -1,-3, 3]\n",
    "\n",
    "def count_min_max_negatives_positives(numbers):\n",
    "    # do your stuff here!\n",
    "    return min_num, max_num, negative_counter, positive_counter\n",
    "min_num, max_num, neg, positive = count_min_max_negatives_positives(numbers)\n",
    "# print(min_num, max_num, neg, positive)"
   ]
  }
 ],
 "metadata": {
  "kernelspec": {
   "display_name": "Python 3",
   "language": "python",
   "name": "python3"
  },
  "language_info": {
   "codemirror_mode": {
    "name": "ipython",
    "version": 3
   },
   "file_extension": ".py",
   "mimetype": "text/x-python",
   "name": "python",
   "nbconvert_exporter": "python",
   "pygments_lexer": "ipython3",
   "version": "3.6.7"
  }
 },
 "nbformat": 4,
 "nbformat_minor": 2
}
