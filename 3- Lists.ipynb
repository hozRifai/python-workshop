{
 "cells": [
  {
   "cell_type": "markdown",
   "metadata": {},
   "source": [
    "<h3> Lists </h3>\n",
    "<p>There are four collection data types in the Python programming language:</p>\n",
    "\n",
    "<li><b>List: </b> is a collection which is ordered and changeable. Allows duplicate members.</li>\n",
    "<li><b>Tuple: </b> is a collection which is ordered and unchangeable. Allows duplicate members.</li>\n",
    "<li><b>Set: </b> is a collection which is unordered and unindexed. No duplicate members.</li>\n",
    "<li><b>Dictionary: </b> is a collection which is unordered, changeable and indexed. No duplicate members.</li>"
   ]
  },
  {
   "cell_type": "markdown",
   "metadata": {},
   "source": [
    "<h3> 1- Slicing </h3>"
   ]
  },
  {
   "cell_type": "code",
   "execution_count": 7,
   "metadata": {},
   "outputs": [
    {
     "data": {
      "text/plain": [
       "['Linux', 'WINDOWS', 'Mac', 'Android', 'Unix', 1, 'Windows', 2.3]"
      ]
     },
     "execution_count": 7,
     "metadata": {},
     "output_type": "execute_result"
    }
   ],
   "source": [
    "# Lists are written with square brackets.\n",
    "os = [\"Linux\", \"Windows\", \"Mac\", 'Android', 'Unix', 1, \"Windows\", 2.3]\n",
    "# os[0]\n",
    "# os[1]\n",
    "# os[-1]\n",
    "# os[1:4]\n",
    "# os[:3]\n",
    "os[::-1]\n",
    "os[1] = os[1].upper() # Change Item Value\n",
    "# os[1]\n",
    "os"
   ]
  },
  {
   "cell_type": "markdown",
   "metadata": {},
   "source": [
    "<h3> 2- Loop Through a List</h3>"
   ]
  },
  {
   "cell_type": "code",
   "execution_count": 9,
   "metadata": {},
   "outputs": [
    {
     "name": "stdout",
     "output_type": "stream",
     "text": [
      "Linux, Windows, Mac, Android, Unix, "
     ]
    }
   ],
   "source": [
    "os = [\"Linux\", \"Windows\", \"Mac\", 'Android', 'Unix']\n",
    "for i in os:\n",
    "    print(i, end=', ')"
   ]
  },
  {
   "cell_type": "markdown",
   "metadata": {},
   "source": [
    "<h3> 3- Check If Item Exists</h3>"
   ]
  },
  {
   "cell_type": "code",
   "execution_count": 21,
   "metadata": {},
   "outputs": [
    {
     "name": "stdout",
     "output_type": "stream",
     "text": [
      "Linux was detected\n"
     ]
    }
   ],
   "source": [
    "os = [\"Linux\", \"Windows\", \"Mac\", 'Android', 'Unix']\n",
    "if \"Linux\" in os:\n",
    "    print(\"Linux was detected\")"
   ]
  },
  {
   "cell_type": "markdown",
   "metadata": {},
   "source": [
    "<h3> 4- Lists Method</h3>\n",
    "<p> 4-1 Use the <code> len() </code> Method to get the length/size of the list </p>"
   ]
  },
  {
   "cell_type": "code",
   "execution_count": 23,
   "metadata": {},
   "outputs": [
    {
     "data": {
      "text/plain": [
       "5"
      ]
     },
     "execution_count": 23,
     "metadata": {},
     "output_type": "execute_result"
    }
   ],
   "source": [
    "os = [\"Linux\", \"Windows\", \"Mac\", 'Android', 'Unix']\n",
    "len(os)"
   ]
  },
  {
   "cell_type": "markdown",
   "metadata": {},
   "source": [
    "<p>4-2 Use the<code>append() </code> method to add an item to the end of the list</p>"
   ]
  },
  {
   "cell_type": "code",
   "execution_count": 30,
   "metadata": {},
   "outputs": [
    {
     "data": {
      "text/plain": [
       "['Linux', 'Windows', 'Mac', 'Android', 'Unix', 'Fedora']"
      ]
     },
     "execution_count": 30,
     "metadata": {},
     "output_type": "execute_result"
    }
   ],
   "source": [
    "os = [\"Linux\", \"Windows\", \"Mac\", 'Android', 'Unix']\n",
    "os.append('Fedora')\n",
    "os"
   ]
  },
  {
   "cell_type": "markdown",
   "metadata": {},
   "source": [
    "<p>4-3 Use the<code>insert() </code> method to add an item to a certain place</p>"
   ]
  },
  {
   "cell_type": "code",
   "execution_count": 29,
   "metadata": {},
   "outputs": [
    {
     "data": {
      "text/plain": [
       "['Linux', 'Ubuntu', 'Windows', 'Mac', 'Android', 'Unix']"
      ]
     },
     "execution_count": 29,
     "metadata": {},
     "output_type": "execute_result"
    }
   ],
   "source": [
    "os = [\"Linux\", \"Windows\", \"Mac\", 'Android', 'Unix']\n",
    "os.insert(1, 'Ubuntu')\n",
    "os"
   ]
  },
  {
   "cell_type": "markdown",
   "metadata": {},
   "source": [
    "<p>4-4 To remove an item from a list, there are 3 ways to do so:</p>\n",
    "<li> The <code>remove()</code> method removes the first matching value: <code> my_list.remove(element)</code></li>\n",
    "<li> The <code>pop() </code> method removes the specified index, (or the last item if index is not specified): <code> my_list.pop(3)</code></li>\n",
    "<li> The <code>del</code> keyword removes the specified index: <code>del my_list[2]</code> </li>\n",
    "<li>The <code>del </code> keyword can also delete the list completely <code> del my_list</code></li>"
   ]
  },
  {
   "cell_type": "code",
   "execution_count": 14,
   "metadata": {},
   "outputs": [
    {
     "data": {
      "text/plain": [
       "['Windows', 'Mac', 'Android', 'Unix']"
      ]
     },
     "execution_count": 14,
     "metadata": {},
     "output_type": "execute_result"
    }
   ],
   "source": [
    "# try to delete the third item using the explained methods\n",
    "os = [\"Linux\", \"Windows\", \"Mac\", 'Android', 'Unix']\n",
    "del os[0]\n",
    "os"
   ]
  },
  {
   "cell_type": "markdown",
   "metadata": {},
   "source": [
    "<p>4-5 Empty List</p>"
   ]
  },
  {
   "cell_type": "code",
   "execution_count": 16,
   "metadata": {},
   "outputs": [
    {
     "data": {
      "text/plain": [
       "[]"
      ]
     },
     "execution_count": 16,
     "metadata": {},
     "output_type": "execute_result"
    }
   ],
   "source": [
    "os = [\"Linux\", \"Windows\", \"Mac\", 'Android', 'Unix']\n",
    "os.clear() # or os = [] \n",
    "os"
   ]
  },
  {
   "cell_type": "markdown",
   "metadata": {},
   "source": [
    "<p> 4-6 Copy a List </p>"
   ]
  },
  {
   "cell_type": "code",
   "execution_count": 21,
   "metadata": {},
   "outputs": [
    {
     "data": {
      "text/plain": [
       "['Linux', 'Windows', 'Mac', 'Android', 'Unix']"
      ]
     },
     "execution_count": 21,
     "metadata": {},
     "output_type": "execute_result"
    }
   ],
   "source": [
    "# copy(), list()\n",
    "os = [\"Linux\", \"Windows\", \"Mac\", 'Android', 'Unix']\n",
    "os_2 = os.copy()\n",
    "os_2[0] = \"####\"\n",
    "os"
   ]
  },
  {
   "cell_type": "markdown",
   "metadata": {},
   "source": [
    "<p>4-7 Joining Two lists</p>"
   ]
  },
  {
   "cell_type": "code",
   "execution_count": 46,
   "metadata": {},
   "outputs": [
    {
     "data": {
      "text/plain": [
       "['a', 'b', 'c', 1, 2, 3]"
      ]
     },
     "execution_count": 46,
     "metadata": {},
     "output_type": "execute_result"
    }
   ],
   "source": [
    "list1 = [\"a\", \"b\" , \"c\"]\n",
    "list2 = [1, 2, 3]\n",
    "\n",
    "list3 = list1 + list2\n",
    "list3"
   ]
  },
  {
   "cell_type": "code",
   "execution_count": 48,
   "metadata": {},
   "outputs": [
    {
     "name": "stdout",
     "output_type": "stream",
     "text": [
      "['a', 'b', 'c', 1, 2, 3]\n"
     ]
    }
   ],
   "source": [
    "list1 = [\"a\", \"b\" , \"c\"]\n",
    "list2 = [1, 2, 3]\n",
    "\n",
    "for x in list2:\n",
    "    list1.append(x)\n",
    "\n",
    "print(list1)"
   ]
  },
  {
   "cell_type": "code",
   "execution_count": 49,
   "metadata": {},
   "outputs": [
    {
     "name": "stdout",
     "output_type": "stream",
     "text": [
      "['a', 'b', 'c', 1, 2, 3]\n"
     ]
    }
   ],
   "source": [
    "list1 = [\"a\", \"b\" , \"c\"]\n",
    "list2 = [1, 2, 3]\n",
    "\n",
    "list1.extend(list2)\n",
    "print(list1)"
   ]
  },
  {
   "cell_type": "markdown",
   "metadata": {},
   "source": [
    "<b> 4-8 List Comprehension </b>\n",
    "<p> To understand How List Comprehension is usefull, Let's do the following exerice </p>\n",
    "<p> Ex 1: Create<code>os_case_converter</code>list where you convert lower words to upper words and vice versa </p>"
   ]
  },
  {
   "cell_type": "code",
   "execution_count": 27,
   "metadata": {},
   "outputs": [
    {
     "name": "stdout",
     "output_type": "stream",
     "text": [
      "[1, 2, 3]\n",
      "[4, 5, 6]\n"
     ]
    }
   ],
   "source": [
    "os = [(1,2), \"windows\", \"MAC\", 'android', 'UNIX']\n",
    "os_case_converter = []\n",
    "# for i in os:\n",
    "#     if i.islower():\n",
    "#         os_case_converter.append(i.upper())\n",
    "#     else:\n",
    "#         os_case_converter.append(i.lower())\n",
    "os = [[1,2,3], [4,5,6]]\n",
    "for x in os:\n",
    "    print(x)"
   ]
  },
  {
   "cell_type": "markdown",
   "metadata": {},
   "source": [
    "<b> 4-9 Convert a list to a string </b>"
   ]
  },
  {
   "cell_type": "code",
   "execution_count": 74,
   "metadata": {},
   "outputs": [
    {
     "data": {
      "text/plain": [
       "'linux, windows, MAC, android, UNIX'"
      ]
     },
     "execution_count": 74,
     "metadata": {},
     "output_type": "execute_result"
    }
   ],
   "source": [
    "os = [\"linux\", \"windows\", \"MAC\", 'android', 'UNIX']\n",
    "text = ', '.join(os)\n",
    "text"
   ]
  },
  {
   "cell_type": "markdown",
   "metadata": {},
   "source": [
    "<h3> Examples </h3>"
   ]
  },
  {
   "cell_type": "code",
   "execution_count": null,
   "metadata": {},
   "outputs": [],
   "source": [
    "a = \"this is a string\"\n",
    "# print the following string as follows: \"this-is-a-string\"\n",
    "# Hint: You should use both split and join method "
   ]
  },
  {
   "cell_type": "code",
   "execution_count": 31,
   "metadata": {},
   "outputs": [],
   "source": [
    "# write a program that takes a list of numbers (for example a = [5, 10, 15, 20, 25, 30]) and makes a new list \n",
    "# of only the first nad last elements of the given list."
   ]
  }
 ],
 "metadata": {
  "kernelspec": {
   "display_name": "Python 3",
   "language": "python",
   "name": "python3"
  },
  "language_info": {
   "codemirror_mode": {
    "name": "ipython",
    "version": 3
   },
   "file_extension": ".py",
   "mimetype": "text/x-python",
   "name": "python",
   "nbconvert_exporter": "python",
   "pygments_lexer": "ipython3",
   "version": "3.6.7"
  }
 },
 "nbformat": 4,
 "nbformat_minor": 2
}
