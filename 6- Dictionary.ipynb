{
 "cells": [
  {
   "cell_type": "markdown",
   "metadata": {},
   "source": [
    "<h3> Sets </h3>\n",
    "<p>There are four collection data types in the Python programming language:</p>\n",
    "\n",
    "<li><b>List: </b> is a collection which is ordered and changeable. Allows duplicate members.</li>\n",
    "<li><b>Tuple: </b> is a collection which is ordered and unchangeable. Allows duplicate members.</li>\n",
    "<li><b>Set: </b> is a collection which is unordered and unindexed. No duplicate members.</li>\n",
    "<li><b>Dictionary: </b> is a collection which is unordered, changeable and indexed. No duplicate members.</li>"
   ]
  },
  {
   "cell_type": "code",
   "execution_count": 3,
   "metadata": {},
   "outputs": [
    {
     "data": {
      "text/plain": [
       "{'name': 'Hozayfa El Rifai', 'age': 21, 'email': 'houzayfar@gmail.com'}"
      ]
     },
     "execution_count": 3,
     "metadata": {},
     "output_type": "execute_result"
    }
   ],
   "source": [
    "user_info = {\n",
    "    # key : value\n",
    "    'name': 'Hozayfa El Rifai',\n",
    "    'age' : 21, \n",
    "    'email': 'houzayfar@gmail.com'\n",
    "}\n",
    "user_info"
   ]
  },
  {
   "cell_type": "markdown",
   "metadata": {},
   "source": [
    "<h3> 1- Accessing Key</h3>"
   ]
  },
  {
   "cell_type": "code",
   "execution_count": 8,
   "metadata": {},
   "outputs": [
    {
     "data": {
      "text/plain": [
       "21"
      ]
     },
     "execution_count": 8,
     "metadata": {},
     "output_type": "execute_result"
    }
   ],
   "source": [
    "user_info['age']\n",
    "user_info.get('age', 1)"
   ]
  },
  {
   "cell_type": "markdown",
   "metadata": {},
   "source": [
    "<h3> 2- Add Items </h3>"
   ]
  },
  {
   "cell_type": "code",
   "execution_count": 9,
   "metadata": {},
   "outputs": [
    {
     "data": {
      "text/plain": [
       "{'name': 'Hozayfa El Rifai',\n",
       " 'age': 21,\n",
       " 'email': 'houzayfar@gmail.com',\n",
       " 'location': 'Sharjah'}"
      ]
     },
     "execution_count": 9,
     "metadata": {},
     "output_type": "execute_result"
    }
   ],
   "source": [
    "user_info = {\n",
    "    # key : value\n",
    "    'name': 'Hozayfa El Rifai',\n",
    "    'age' : 21, \n",
    "    'email': 'houzayfar@gmail.com'\n",
    "}\n",
    "user_info['location'] = 'Sharjah'\n",
    "user_info"
   ]
  },
  {
   "cell_type": "markdown",
   "metadata": {},
   "source": [
    "<h3> 3- Remove Item </h3>"
   ]
  },
  {
   "cell_type": "code",
   "execution_count": 12,
   "metadata": {},
   "outputs": [
    {
     "data": {
      "text/plain": [
       "'houzayfar@gmail.com'"
      ]
     },
     "execution_count": 12,
     "metadata": {},
     "output_type": "execute_result"
    }
   ],
   "source": [
    "user_info = {\n",
    "    # key : value\n",
    "    'name': 'Hozayfa El Rifai',\n",
    "    'age' : 21, \n",
    "    'email': 'houzayfar@gmail.com'\n",
    "}\n",
    "# del user_info['email']\n",
    "deleted_email = user_info.pop(\"email\")\n",
    "deleted_email"
   ]
  },
  {
   "cell_type": "markdown",
   "metadata": {},
   "source": [
    "<h4> 4- Modify Item </h3>"
   ]
  },
  {
   "cell_type": "code",
   "execution_count": 15,
   "metadata": {},
   "outputs": [
    {
     "data": {
      "text/plain": [
       "{'name': 'Hozayfa El Rifai', 'age': 22, 'email': 'houzayfa@protonmail.com'}"
      ]
     },
     "execution_count": 15,
     "metadata": {},
     "output_type": "execute_result"
    }
   ],
   "source": [
    "user_info = {\n",
    "    # key : value\n",
    "    'name': 'Hozayfa El Rifai',\n",
    "    'age' : 21, \n",
    "    'email': 'houzayfar@gmail.com'\n",
    "}\n",
    "user_info['age'] = 22\n",
    "user_info.update({'email': 'houzayfa@protonmail.com'})\n",
    "user_info"
   ]
  },
  {
   "cell_type": "markdown",
   "metadata": {},
   "source": [
    "<h3>5- Loop Through a dictionary</h3>"
   ]
  },
  {
   "cell_type": "code",
   "execution_count": 16,
   "metadata": {},
   "outputs": [
    {
     "name": "stdout",
     "output_type": "stream",
     "text": [
      "name Hozayfa El Rifai\n",
      "age 21\n",
      "email houzayfar@gmail.com\n"
     ]
    }
   ],
   "source": [
    "user_info = {\n",
    "    # key : value\n",
    "    'name': 'Hozayfa El Rifai',\n",
    "    'age' : 21, \n",
    "    'email': 'houzayfar@gmail.com'\n",
    "}\n",
    "\n",
    "for key, value in user_info.items():\n",
    "    print(key, value)"
   ]
  },
  {
   "cell_type": "markdown",
   "metadata": {},
   "source": [
    "<h3> Exercise </h3>"
   ]
  },
  {
   "cell_type": "code",
   "execution_count": 6,
   "metadata": {},
   "outputs": [
    {
     "name": "stdout",
     "output_type": "stream",
     "text": [
      "Welcome to the birthday dictionary. We know the birthdays of:\n",
      "Who's birthday do you want to look up?d\n"
     ]
    }
   ],
   "source": [
    "\"\"\"\n",
    ">>> Welcome to the birthday dictionary. We know the birthdays of:\n",
    "Albert Einstein\n",
    "Benjamin Franklin\n",
    "Ada Lovelace\n",
    ">>> Whose birthday do you want to look up?\n",
    "Benjamin Franklin\n",
    ">>> Benjamin Franklin's birthday is 01/17/1706.\n",
    "\"\"\"\n",
    "\n",
    "birthdays = {\n",
    "    'Albert Einstein': '03/14/1879',\n",
    "    'Benjamin Franklin': '01/17/1706',\n",
    "    'Ada Lovelace': '12/10/1815',\n",
    "    'Rowan Atkinson': '01/6/1955'\n",
    "}\n",
    "\n",
    "print(\"Welcome to the birthday dictionary. We know the birthdays of:\")\n",
    "# write a code to loop over all items in the birthday dictianry and print all keys, values\n",
    "user_input = input(\"Who's birthday do you want to look up?\")\n",
    "# print the birthday of the given key "
   ]
  },
  {
   "cell_type": "code",
   "execution_count": null,
   "metadata": {},
   "outputs": [],
   "source": []
  }
 ],
 "metadata": {
  "kernelspec": {
   "display_name": "Python 3",
   "language": "python",
   "name": "python3"
  },
  "language_info": {
   "codemirror_mode": {
    "name": "ipython",
    "version": 3
   },
   "file_extension": ".py",
   "mimetype": "text/x-python",
   "name": "python",
   "nbconvert_exporter": "python",
   "pygments_lexer": "ipython3",
   "version": "3.6.8"
  }
 },
 "nbformat": 4,
 "nbformat_minor": 2
}
